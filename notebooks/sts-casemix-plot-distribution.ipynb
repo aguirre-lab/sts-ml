{
 "cells": [
  {
   "cell_type": "code",
   "execution_count": null,
   "metadata": {},
   "outputs": [],
   "source": [
    "import pandas as pd\n",
    "import seaborn as sns\n",
    "import matplotlib.pyplot as plt"
   ]
  },
  {
   "cell_type": "code",
   "execution_count": null,
   "metadata": {},
   "outputs": [],
   "source": [
    "df = pd.read_csv('~/dropbox/sts-ml/results/mgh-other-procedures-breakdown.csv')"
   ]
  },
  {
   "cell_type": "code",
   "execution_count": null,
   "metadata": {},
   "outputs": [],
   "source": [
    "# Calculate how many cases contain a string\n",
    "str_to_find = 'aort'\n",
    "sum(df[df.procedure.str.contains(str_to_find, case=False, regex=True)].counts)"
   ]
  },
  {
   "cell_type": "code",
   "execution_count": null,
   "metadata": {},
   "outputs": [],
   "source": [
    "# Isolate top part of data to plot\n",
    "df = df[:10]\n",
    "df"
   ]
  },
  {
   "cell_type": "code",
   "execution_count": null,
   "metadata": {},
   "outputs": [],
   "source": [
    "# Plot bar plot of cases\n",
    "sns.set(style=\"whitegrid\")\n",
    "sns.set_context(\"talk\")\n",
    "\n",
    "f, ax = plt.subplots(figsize=(8, df.shape[0]*0.5))\n",
    "sns.set_color_codes(\"pastel\")\n",
    "\n",
    "sns.barplot(x=\"counts\", y=\"procedure\", data=df,\n",
    "            label=\"Total\", color=\"b\")\n",
    "ax.set_ylabel('')    \n",
    "ax.set_xlabel('Counts')\n",
    "plt.tight_layout()"
   ]
  },
  {
   "cell_type": "code",
   "execution_count": null,
   "metadata": {},
   "outputs": [],
   "source": [
    "f.savefig('others-case-breakdown.png', dpi=400)"
   ]
  }
 ],
 "metadata": {
  "kernelspec": {
   "display_name": "Python 3",
   "language": "python",
   "name": "python3"
  },
  "language_info": {
   "codemirror_mode": {
    "name": "ipython",
    "version": 3
   },
   "file_extension": ".py",
   "mimetype": "text/x-python",
   "name": "python",
   "nbconvert_exporter": "python",
   "pygments_lexer": "ipython3",
   "version": "3.8.1"
  }
 },
 "nbformat": 4,
 "nbformat_minor": 4
}
