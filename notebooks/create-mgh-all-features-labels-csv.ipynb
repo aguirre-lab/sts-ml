{
 "cells": [
  {
   "cell_type": "code",
   "execution_count": null,
   "metadata": {},
   "outputs": [],
   "source": [
    "#STS-ECG GitHub Issue 39 \"Create MGH AVR features & labels CSV #39\"\n",
    "\n",
    "import pandas as pd\n",
    "\n",
    "#Isolate subset of mgh-all-features-labels.csv using MRNs in mgh-avr.csv.\n",
    "\n",
    "mghallfeatureslabels = pd.read_csv(\"mgh-all-features-labels.csv\")\n",
    "mghallfeatureslabels['medrecn_surgdt'] = mghallfeatureslabels.medrecn.astype(str) + \"_\" + mghallfeatureslabels.surgdt                                         \n",
    "\n",
    "mghecgreadpcsupranodalrhythms = pd.read_csv(\"mgh-ecg-read-pc-supranodal-rhythms.csv\")\n",
    "mghecgreadpcsupranodalrhythms['ecg_patientid_clean_ecg_datetime'] = mghecgreadpcsupranodalrhythms.partners_ecg_patientid_clean.astype(str) + \"_\" + mghecgreadpcsupranodalrhythms.partners_ecg_datetime.astype(str)\n",
    "\n",
    "#To find AFib labels in the 3-6 mo post-op range, cross-reference a) MRNs of patients with an ECG in 3-6 mo\n",
    "#post-op range (dropbox:/sts-afib/results/sts-crossref-3-to-6-mo-postop/list_1+_in_all_windows.csv) against \n",
    "#MRNs of AFib labels: (dropbox:/sts-data/mgh-ecg-read-pc-supranodal-rhythms.csv). Description of label CSV here.\n",
    "\n",
    "stscrossref3to6mopostop = pd.read_csv(\"list_1+_in_all_windows.csv\")"
   ]
  },
  {
   "cell_type": "code",
   "execution_count": null,
   "metadata": {},
   "outputs": [],
   "source": [
    "stscrossref3to6mopostop"
   ]
  },
  {
   "cell_type": "code",
   "execution_count": null,
   "metadata": {},
   "outputs": [],
   "source": [
    "stscrossref3to6mopostop['surgdt_str'] = stscrossref3to6mopostop.surgdt.astype(str)\n",
    "stscrossref3to6mopostop['surgdt_str'] = stscrossref3to6mopostop['surgdt_str'].str[:10]\n",
    "stscrossref3to6mopostop['medrecn_surgdt'] = stscrossref3to6mopostop.medrecn.astype(str) + \"_\" + stscrossref3to6mopostop.surgdt_str\n",
    "stscrossref3to6mopostop['ecg_patientid_clean_ecg_datetime'] = stscrossref3to6mopostop.partners_ecg_patientid_clean.astype(str) + \"_\" + stscrossref3to6mopostop.partners_ecg_datetime.astype(str)\n",
    "stscrossref3to6mopostop['ecg_patientid_clean_ecg_datetime'] = stscrossref3to6mopostop['ecg_patientid_clean_ecg_datetime'].str.replace(' ','T') \n",
    "stscrossref3to6mopostop = stscrossref3to6mopostop.merge(mghecgreadpcsupranodalrhythms, on='ecg_patientid_clean_ecg_datetime', how='left') \n",
    "\n",
    "sts_afib_272 = stscrossref3to6mopostop.groupby(['medrecn_surgdt']).sum()\n",
    "sts_afib_272.loc[sts_afib_272['partners_ecg_read_pc_afib'] == 0, 'long-term-afib'] = 0\n",
    "sts_afib_272.loc[sts_afib_272['partners_ecg_read_pc_afib'] > 0, 'long-term-afib'] = 1\n",
    "\n",
    "#For each patient (MRN) with an ECG in the 3-6 mo post-op window, you should be able to find the AFib label \n",
    "#for that (MRN, ECG_datetime) tuple.\n",
    "\n",
    "sts_afib_272 = sts_afib_272.loc[:, 'long-term-afib']\n",
    "sts_afib_272 = sts_afib_272.reset_index()\n",
    "sts_afib_272.to_csv('sts_afib_272.csv', index = None, header=True)"
   ]
  },
  {
   "cell_type": "code",
   "execution_count": null,
   "metadata": {},
   "outputs": [],
   "source": [
    "mgh_avr_features_labels = mghavr.merge(sts_afib_272, on='medrecn_surgdt', how='left')\n",
    "mgh_avr_features_labels = mgh_avr_features_labels.dropna(subset=['long-term-afib'])\n",
    "mgh_avr_features_labels = mgh_avr_features_labels.drop('medrecn_surgdt', axis=1)\n",
    "mgh_avr_features_labels['long-term-afib'] = mgh_avr_features_labels['long-term-afib'].astype(int)\n",
    "mgh_avr_features_labels = mgh_avr_features_labels[['medrecn', 'surgdt', 'mtopd', 'cnstrokp', 'crenfail', 'cpvntlng',\n",
    "       'deepsterninf', 'reop', 'anymorbidity', 'los', 'slos', 'llos', 'long-term-afib', 'opcab',\n",
    "       'opvalve', 'hdef', 'perfustm', 'xclamptm', 'creatlst', 'wbc',\n",
    "       'platelets', 'hct', 'heightcm', 'weightkg', 'gender', 'age', 'diabetes',\n",
    "       'dialysis', 'hypertn', 'cva', 'infendty', 'chrlungd', 'immsupp', 'pvd',\n",
    "       'cvd', 'prcvint', 'prcab', 'prvalve', 'chf', 'carshock', 'resusc',\n",
    "       'classnyh', 'medinotr', 'medster', 'numdisv', 'vdstena', 'vdstenm',\n",
    "       'vdinsufa', 'vdinsufm', 'vdinsuft', 'status', 'incidenc', 'pocpci',\n",
    "       'pocpciin', 'medgp', 'cvdtia', 'cvdpcarsurg', 'medadp5days',\n",
    "       'ethnicity', 'racecaucasian', 'raceblack', 'raceasian', 'racenativeam',\n",
    "       'raceothernativepacific']]\n",
    "mgh_avr_features_labels.to_csv('mgh-avr-features-labels.csv', index = False, header=True)"
   ]
  },
  {
   "cell_type": "code",
   "execution_count": null,
   "metadata": {},
   "outputs": [],
   "source": []
  }
 ],
 "metadata": {
  "kernelspec": {
   "display_name": "Python 3",
   "language": "python",
   "name": "python3"
  },
  "language_info": {
   "codemirror_mode": {
    "name": "ipython",
    "version": 3
   },
   "file_extension": ".py",
   "mimetype": "text/x-python",
   "name": "python",
   "nbconvert_exporter": "python",
   "pygments_lexer": "ipython3",
   "version": "3.8.1"
  }
 },
 "nbformat": 4,
 "nbformat_minor": 4
}
