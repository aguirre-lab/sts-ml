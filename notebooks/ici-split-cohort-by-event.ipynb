{
 "cells": [
  {
   "cell_type": "markdown",
   "metadata": {},
   "source": [
    "# Split cohort by event\n",
    "Takes single CSV file with entire cohort, and separates into sub-CSVs by case vs control status"
   ]
  },
  {
   "cell_type": "code",
   "execution_count": null,
   "metadata": {},
   "outputs": [],
   "source": [
    "import os\n",
    "import pandas as pd\n",
    "from datetime import datetime"
   ]
  },
  {
   "cell_type": "code",
   "execution_count": null,
   "metadata": {},
   "outputs": [],
   "source": [
    "df = pd.read_csv(os.path.expanduser(\"~/dropbox/ecg_immunotherapy/data/casecontrol2020624_events.csv\"))\n",
    "df"
   ]
  },
  {
   "cell_type": "code",
   "execution_count": null,
   "metadata": {},
   "outputs": [],
   "source": [
    "# Isolate cases\n",
    "df_cases = df[df.group == \"case\"].copy()\n",
    "df_cases"
   ]
  },
  {
   "cell_type": "code",
   "execution_count": null,
   "metadata": {},
   "outputs": [],
   "source": [
    "# Check events\n",
    "print(f\"Number of first_event_after dates: {sum(df_cases.first_event_after != '.')}\")\n",
    "print(f\"Sum of event_after values: {sum(df_cases.event_after)}\")"
   ]
  },
  {
   "cell_type": "code",
   "execution_count": null,
   "metadata": {},
   "outputs": [],
   "source": [
    "# Save cases to CSV\n",
    "df_cases.to_csv(os.path.expanduser(\"~/dropbox/ecg_immunotherapy/data/casecontrol2020624_events_cases.csv\"), index=False)"
   ]
  },
  {
   "cell_type": "code",
   "execution_count": null,
   "metadata": {},
   "outputs": [],
   "source": [
    "# Isolate just cases with events\n",
    "df_cases_with_events = df_cases[df_cases.event_after == 1]\n",
    "df_cases_with_events.to_csv(os.path.expanduser(\"~/dropbox/ecg_immunotherapy/data/casecontrol2020624_events_cases_with_events.csv\"), index=False)"
   ]
  },
  {
   "cell_type": "code",
   "execution_count": null,
   "metadata": {},
   "outputs": [],
   "source": [
    "# Isolate controls\n",
    "df_controls = df[df.group == \"control\"].copy()\n",
    "df_controls"
   ]
  },
  {
   "cell_type": "code",
   "execution_count": null,
   "metadata": {},
   "outputs": [],
   "source": [
    "# Check events\n",
    "print(f\"Number of first_event_after dates: {sum(df_controls.first_event_after != '.')}\")\n",
    "print(f\"Sum of event_after values: {sum(df_controls.event_after)}\")"
   ]
  },
  {
   "cell_type": "code",
   "execution_count": null,
   "metadata": {},
   "outputs": [],
   "source": [
    "# Save cases to CSV\n",
    "df_controls.to_csv(os.path.expanduser(\"~/dropbox/ecg_immunotherapy/data/casecontrol2020624_events_controls.csv\"), index=False)"
   ]
  },
  {
   "cell_type": "code",
   "execution_count": null,
   "metadata": {},
   "outputs": [],
   "source": []
  }
 ],
 "metadata": {
  "kernelspec": {
   "display_name": "Python 3",
   "language": "python",
   "name": "python3"
  },
  "language_info": {
   "codemirror_mode": {
    "name": "ipython",
    "version": 3
   },
   "file_extension": ".py",
   "mimetype": "text/x-python",
   "name": "python",
   "nbconvert_exporter": "python",
   "pygments_lexer": "ipython3",
   "version": "3.8.1"
  }
 },
 "nbformat": 4,
 "nbformat_minor": 4
}
