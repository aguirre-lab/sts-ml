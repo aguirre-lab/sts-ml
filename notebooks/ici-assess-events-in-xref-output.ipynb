{
 "cells": [
  {
   "cell_type": "code",
   "execution_count": null,
   "metadata": {},
   "outputs": [],
   "source": [
    "import os\n",
    "import pandas as pd"
   ]
  },
  {
   "cell_type": "code",
   "execution_count": null,
   "metadata": {},
   "outputs": [],
   "source": [
    "df_xref = pd.read_csv(\"/home/erik/dropbox/ecg_immunotherapy/results/ici-ecg-crossref-pre-ici-cohort-cases/list_1+_in_all_windows.csv\")"
   ]
  },
  {
   "cell_type": "code",
   "execution_count": null,
   "metadata": {},
   "outputs": [],
   "source": [
    "df_xref"
   ]
  },
  {
   "cell_type": "code",
   "execution_count": null,
   "metadata": {},
   "outputs": [],
   "source": [
    "mrns = df_xref.partners_ecg_patientid_clean.unique()"
   ]
  },
  {
   "cell_type": "code",
   "execution_count": null,
   "metadata": {},
   "outputs": [],
   "source": [
    "len(mrns)"
   ]
  },
  {
   "cell_type": "code",
   "execution_count": null,
   "metadata": {},
   "outputs": [],
   "source": [
    "df_ici = pd.read_csv(os.path.expanduser(\"~/dropbox/ecg_immunotherapy/data/casecontrol2020624_events.csv\"))\n",
    "df_ici"
   ]
  },
  {
   "cell_type": "code",
   "execution_count": null,
   "metadata": {},
   "outputs": [],
   "source": [
    "total_events = 0\n",
    "for mrn in mrns:\n",
    "    total_events += df_ici[df_ici.mgh_mrn == mrn].event_after.values[0]\n",
    "    \n",
    "total_events"
   ]
  },
  {
   "cell_type": "code",
   "execution_count": null,
   "metadata": {},
   "outputs": [],
   "source": [
    "df_xref = pd.read_csv(\"/home/erik/dropbox/ecg_immunotherapy/results/ici-ecg-crossref-pre-ici-cohort-controls/list_1+_in_all_windows.csv\")"
   ]
  },
  {
   "cell_type": "code",
   "execution_count": null,
   "metadata": {},
   "outputs": [],
   "source": [
    "df_xref"
   ]
  },
  {
   "cell_type": "code",
   "execution_count": null,
   "metadata": {},
   "outputs": [],
   "source": [
    "mrns = df_xref.partners_ecg_patientid_clean.unique()\n",
    "total_events = 0\n",
    "for mrn in mrns:\n",
    "    total_events += df_ici[df_ici.mgh_mrn == mrn].event_after.values[0]\n",
    "    \n",
    "total_events"
   ]
  }
 ],
 "metadata": {
  "kernelspec": {
   "display_name": "Python 3",
   "language": "python",
   "name": "python3"
  },
  "language_info": {
   "codemirror_mode": {
    "name": "ipython",
    "version": 3
   },
   "file_extension": ".py",
   "mimetype": "text/x-python",
   "name": "python",
   "nbconvert_exporter": "python",
   "pygments_lexer": "ipython3",
   "version": "3.8.1"
  }
 },
 "nbformat": 4,
 "nbformat_minor": 4
}
