{
 "cells": [
  {
   "cell_type": "markdown",
   "metadata": {},
   "source": [
    "# Deidentify STS cross-reference output\n",
    "\n",
    "Generate a new cross-reference file with MRNs replaced by IDs"
   ]
  },
  {
   "cell_type": "code",
   "execution_count": null,
   "metadata": {},
   "outputs": [],
   "source": [
    "import os\n",
    "import pandas as pd"
   ]
  },
  {
   "cell_type": "code",
   "execution_count": null,
   "metadata": {},
   "outputs": [],
   "source": [
    "# Load cross-ref output (MGH ECGs ∩ MGH STS)\n",
    "df = pd.read_csv('/data/sts-data/mgh-preop-ecg-outcome-labels.csv')"
   ]
  },
  {
   "cell_type": "code",
   "execution_count": null,
   "metadata": {},
   "outputs": [],
   "source": [
    "# Load map from MGH MRN to new ID, and convert to dict\n",
    "fpath = os.path.expanduser('~/mgh-ecg-deid-map.csv')\n",
    "df_map = pd.read_csv(fpath)\n",
    "mrn_map = df_map.set_index('mrn').to_dict()['new_id']"
   ]
  },
  {
   "cell_type": "code",
   "execution_count": null,
   "metadata": {},
   "outputs": [],
   "source": [
    "# Ensure every MRN in the cross-reference dataframe is present in the MRN map dict\n",
    "num_mrn_in_xref_df_also_in_map = sum(df.partners_ecg_patientid_clean.isin(mrn_map))\n",
    "print(f\"Number of MRNs in xref dataframe also in MRN map: {num_mrn_in_xref_df_also_in_map}\")\n",
    "print(f\"Number of MRNs in xref datframe: {df.shape[0]}\")"
   ]
  },
  {
   "cell_type": "code",
   "execution_count": null,
   "metadata": {},
   "outputs": [],
   "source": [
    "# Replace value in partners_ecg_patientid_clean with new ID in map\n",
    "df = df.replace({'partners_ecg_patientid_clean': mrn_map})"
   ]
  },
  {
   "cell_type": "code",
   "execution_count": null,
   "metadata": {},
   "outputs": [],
   "source": [
    "# Rename column to simpler name and cast to int\n",
    "df = df.rename(columns={'partners_ecg_patientid_clean': 'mrn'})\n",
    "df['mrn'] = df.mrn.astype(int)"
   ]
  },
  {
   "cell_type": "code",
   "execution_count": null,
   "metadata": {},
   "outputs": [],
   "source": [
    "df.drop(columns=['medrecn'], inplace=True)"
   ]
  },
  {
   "cell_type": "code",
   "execution_count": null,
   "metadata": {},
   "outputs": [],
   "source": [
    "# Save df with new file name\n",
    "fpath = os.path.expanduser('~/mgh-preop-ecg-outcome-labels-deid.csv')\n",
    "df.to_csv(fpath)\n",
    "print(f\"Saved {fpath}\")"
   ]
  }
 ],
 "metadata": {
  "kernelspec": {
   "display_name": "Python 3",
   "language": "python",
   "name": "python3"
  },
  "language_info": {
   "codemirror_mode": {
    "name": "ipython",
    "version": 3
   },
   "file_extension": ".py",
   "mimetype": "text/x-python",
   "name": "python",
   "nbconvert_exporter": "python",
   "pygments_lexer": "ipython3",
   "version": "3.8.1"
  }
 },
 "nbformat": 4,
 "nbformat_minor": 4
}
