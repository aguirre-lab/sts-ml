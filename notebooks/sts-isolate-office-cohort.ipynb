{
 "cells": [
  {
   "cell_type": "code",
   "execution_count": null,
   "metadata": {},
   "outputs": [],
   "source": [
    "import pandas as pd"
   ]
  },
  {
   "cell_type": "code",
   "execution_count": null,
   "metadata": {},
   "outputs": [],
   "source": [
    "# institutions = [\"mgh\", \"bwh\"]\n",
    "institutions = [\"mgh\"]\n",
    "\n",
    "for institution in institutions:\n",
    "    \n",
    "    print(f\"Modifying STS others cohort: {institution}\")\n",
    "    \n",
    "    df = pd.read_csv(f\"{institution}-others-features-labels.csv\")\n",
    "\n",
    "#     # Only keep rows where carshock is not 1\n",
    "#     df = df[df.carshock != 1]\n",
    "\n",
    "#     # # Drop carshock column\n",
    "#     # df = df.drop(columns=[\"carshock\"])\n",
    "\n",
    "#     # Only keep rows where status is 1 or 2\n",
    "#     df = df[(df.status == 1) | (df.status == 2)]\n",
    "\n",
    "#     # # Drop stats column\n",
    "#     # df = df.drop(columns=[\"status\"])\n",
    "\n",
    "#     df.to_csv(f\"{institution}-others-features-labels-office-cohort.csv\", index=False)"
   ]
  },
  {
   "cell_type": "code",
   "execution_count": null,
   "metadata": {},
   "outputs": [],
   "source": [
    "df.status.value_counts()"
   ]
  },
  {
   "cell_type": "code",
   "execution_count": null,
   "metadata": {},
   "outputs": [],
   "source": [
    "import pandas as pd\n",
    "df = pd.read_csv(\"mgh-all-features-labels.csv\")"
   ]
  },
  {
   "cell_type": "code",
   "execution_count": null,
   "metadata": {},
   "outputs": [],
   "source": [
    "df.round(3).to_csv(\"mgh-all-features-labels.csv\")"
   ]
  }
 ],
 "metadata": {
  "kernelspec": {
   "display_name": "Python 3",
   "language": "python",
   "name": "python3"
  },
  "language_info": {
   "codemirror_mode": {
    "name": "ipython",
    "version": 3
   },
   "file_extension": ".py",
   "mimetype": "text/x-python",
   "name": "python",
   "nbconvert_exporter": "python",
   "pygments_lexer": "ipython3",
   "version": "3.8.1"
  }
 },
 "nbformat": 4,
 "nbformat_minor": 4
}
