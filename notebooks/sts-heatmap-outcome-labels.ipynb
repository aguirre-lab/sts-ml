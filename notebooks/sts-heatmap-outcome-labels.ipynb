{
 "cells": [
  {
   "cell_type": "code",
   "execution_count": null,
   "metadata": {},
   "outputs": [],
   "source": [
    "# Imports\n",
    "import pandas as pd\n",
    "import seaborn as sns\n",
    "import matplotlib.pyplot as plt"
   ]
  },
  {
   "cell_type": "code",
   "execution_count": null,
   "metadata": {},
   "outputs": [],
   "source": [
    "# Demo heatmap\n",
    "flights = sns.load_dataset(\"flights\")\n",
    "flights = flights.pivot(\"month\", \"year\", \"passengers\")\n",
    "ax = sns.heatmap(flights, cmap=\"YlGnBu\")"
   ]
  },
  {
   "cell_type": "code",
   "execution_count": null,
   "metadata": {},
   "outputs": [],
   "source": [
    "flights"
   ]
  },
  {
   "cell_type": "code",
   "execution_count": null,
   "metadata": {},
   "outputs": [],
   "source": [
    "# Define dictionary mapping column name to outcome description\n",
    "outcomes = {\n",
    "    \"mtopd\": \"death\",\n",
    "    \"cnstrokp\": \"stroke\", \n",
    "    \"crenfail\": \"renal_failure\",\n",
    "    \"cpvntlng\": \"prolong_vent\",\n",
    "    \"deepsterninf\": \"sternal_inf\",\n",
    "    \"reop\": \"reoperation\",\n",
    "    \"anymorbidity\": \"any_morbidity\",\n",
    "    \"llos\": \"long_stay\",\n",
    "}"
   ]
  },
  {
   "cell_type": "code",
   "execution_count": null,
   "metadata": {},
   "outputs": [],
   "source": [
    "# Load data from CSV into dataframe\n",
    "fpath = \"/Users/erik/Dropbox (Partners HealthCare)/sts-data/mgh-all-features-labels.csv\"\n",
    "df = pd.read_csv(fpath)"
   ]
  },
  {
   "cell_type": "code",
   "execution_count": null,
   "metadata": {},
   "outputs": [],
   "source": [
    "# Isolate just binary outcomes\n",
    "df = df[list(outcomes.keys())]\n",
    "df"
   ]
  },
  {
   "cell_type": "code",
   "execution_count": null,
   "metadata": {},
   "outputs": [],
   "source": [
    "# Count number of unique values\n",
    "import numpy as np\n",
    "unique_outcome_counts = {}\n",
    "for outcome in outcomes:\n",
    "    unique_outcome_counts[outcome] = {}\n",
    "    unique_values_this_outcome = df[outcome].unique()\n",
    "    for unique_value in unique_values_this_outcome:\n",
    "        if np.isnan(unique_value):\n",
    "            unique_outcome_counts[outcome]['nan'] = df[outcome].isna().sum()\n",
    "        else:\n",
    "            unique_outcome_counts[outcome][unique_value] = sum(df[outcome] == unique_value)"
   ]
  },
  {
   "cell_type": "code",
   "execution_count": null,
   "metadata": {},
   "outputs": [],
   "source": [
    "unique_outcome_counts"
   ]
  },
  {
   "cell_type": "code",
   "execution_count": null,
   "metadata": {},
   "outputs": [],
   "source": [
    "df_unique = pd.DataFrame(unique_outcome_counts).transpose()\n",
    "df_unique['total'] = df_unique.sum(axis=1)\n",
    "df_unique.to_csv('mgh-all-labels-unique-counts.csv', index=True)\n",
    "df_unique"
   ]
  },
  {
   "cell_type": "code",
   "execution_count": null,
   "metadata": {},
   "outputs": [],
   "source": [
    "# Initialize nested dict of outcomes to store counts\n",
    "outcome_counts = {outcome: {} for outcome in outcomes}\n",
    "\n",
    "for outcome_outer in outcome_counts:\n",
    "    outcome_counts[outcome_outer] = {outcome: {} for outcome in outcomes}"
   ]
  },
  {
   "cell_type": "code",
   "execution_count": null,
   "metadata": {},
   "outputs": [],
   "source": [
    "# Iterate through each outcome\n",
    "for outcome in outcomes:\n",
    "    # Isolate all patients with the desired outcome\n",
    "    df_this_outcome = df[df[outcome] != 0]\n",
    "    print(f\"outcome outer: {outcome} / counts = {df_this_outcome.shape[0]}\")\n",
    "#     outcomes_inner = [outcome_inner for outcome_inner in outcomes if outcome_inner is not outcome]\n",
    "    for outcome_inner in outcomes:\n",
    "        counts = sum(df_this_outcome[outcome_inner] != 0)\n",
    "        print(f\"    outcome inner: {outcome_inner} / counts = {counts}\")\n",
    "        outcome_counts[outcome][outcome_inner] = counts"
   ]
  },
  {
   "cell_type": "code",
   "execution_count": null,
   "metadata": {},
   "outputs": [],
   "source": [
    "df_counts = pd.DataFrame(outcome_counts).astype(int)\n",
    "df_counts = df_counts.rename(outcomes, axis='columns')\n",
    "df_counts = df_counts.rename(outcomes, axis='index')\n",
    "df_counts"
   ]
  },
  {
   "cell_type": "code",
   "execution_count": null,
   "metadata": {},
   "outputs": [],
   "source": [
    "# Plot heatmap of counts\n",
    "sns.set_context(\"talk\")\n",
    "fig, ax = plt.subplots(figsize=(13, 10))\n",
    "sns.heatmap(ax=ax, data=df_counts, annot=True, fmt=\"d\", cmap=\"YlGnBu\")\n",
    "ax.figure.tight_layout()\n",
    "ax.set_title(\"Correlation between MGH STS outcomes: counts\")\n",
    "plt.setp(ax.get_xticklabels(), rotation=45, ha=\"right\",\n",
    "         rotation_mode=\"anchor\")\n",
    "plt.savefig(\"sts_outcomes_counts.png\")"
   ]
  },
  {
   "cell_type": "code",
   "execution_count": null,
   "metadata": {},
   "outputs": [],
   "source": [
    "# Plot heatmap of percent\n",
    "df_percentage = df_counts.div(df.shape[0]).multiply(100).round(2)\n",
    "sns.set_context(\"talk\")\n",
    "fig, ax = plt.subplots(figsize=(13, 10))\n",
    "sns.heatmap(ax=ax, data=df_percentage, annot=True, fmt=\".2f\", cmap=\"YlGnBu\")\n",
    "ax.figure.tight_layout()\n",
    "ax.set_title(\"Correlation between MGH STS outcomes: percentage\")\n",
    "plt.setp(ax.get_xticklabels(), rotation=45, ha=\"right\",\n",
    "         rotation_mode=\"anchor\")\n",
    "plt.savefig(\"sts_outcomes_percentage.png\")"
   ]
  },
  {
   "cell_type": "code",
   "execution_count": null,
   "metadata": {},
   "outputs": [],
   "source": []
  }
 ],
 "metadata": {
  "kernelspec": {
   "display_name": "Python 3",
   "language": "python",
   "name": "python3"
  },
  "language_info": {
   "codemirror_mode": {
    "name": "ipython",
    "version": 3
   },
   "file_extension": ".py",
   "mimetype": "text/x-python",
   "name": "python",
   "nbconvert_exporter": "python",
   "pygments_lexer": "ipython3",
   "version": "3.8.1"
  }
 },
 "nbformat": 4,
 "nbformat_minor": 4
}
