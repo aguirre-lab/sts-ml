{
 "cells": [
  {
   "cell_type": "code",
   "execution_count": null,
   "metadata": {},
   "outputs": [],
   "source": [
    "import os\n",
    "import numpy as np\n",
    "import pandas as pd"
   ]
  },
  {
   "cell_type": "code",
   "execution_count": null,
   "metadata": {},
   "outputs": [],
   "source": [
    "fpath = os.path.expanduser(\"~/dropbox/sts-data/outdated-format/mgh-all-features-labels.csv\")\n",
    "df = pd.read_csv(fpath, low_memory=False)\n",
    "\n",
    "cohorts = {\n",
    "     os.path.expanduser(\"~/dropbox/sts-data/outdated-format/mgh-avr-features-labels.csv\"): \"opavr\",\n",
    "     os.path.expanduser(\"~/dropbox/sts-data/outdated-format/mgh-others-features-labels.csv\"): \"opother\",\n",
    "}\n",
    "\n",
    "for fpath, cohort in cohorts.items():\n",
    "    print(f\"Parsing {cohort} at {fpath}\")\n",
    "    \n",
    "    df_subset = pd.read_csv(fpath, low_memory=False)\n",
    "    df_subset[cohort] = 1\n",
    "    \n",
    "    if \"long-term-afib\" in df_subset:\n",
    "        df_subset.drop(labels='long-term-afib', axis='columns', inplace=True)\n",
    "\n",
    "    if 'medrecn' in df_subset:\n",
    "        cols = ['medrecn', 'surgdt']\n",
    "        \n",
    "        # Get Boolean mask of rows in df that also exist in df_subset\n",
    "        a_index = df.set_index(cols).index\n",
    "        b_index = df_subset.set_index(cols).index\n",
    "        mask = a_index.isin(b_index)\n",
    "\n",
    "        # Subset df to remove the rows that exist in df_avr\n",
    "        df = df[~mask]\n",
    "\n",
    "        # Append subset to df\n",
    "        df = df.append(df_subset)\n",
    "        \n",
    "        # Drop duplicate rows\n",
    "        df.drop_duplicates(subset=cols, keep='first', inplace=True)\n",
    "        \n",
    "    # No MRN, so append rows and remove dups\n",
    "    else:    \n",
    "        df = df.append(df_subset)\n",
    "        \n",
    "        # Set columns used to define duplicate rows\n",
    "        cols = [\n",
    "                'surgdt', 'gender', 'diabetes',\n",
    "                'dialysis', 'hypertn', 'cva', 'infendty', 'chrlungd', 'immsupp', 'pvd',\n",
    "                'cvd', 'prcvint', 'chf', 'carshock', 'resusc',\n",
    "                'classnyh', 'medinotr', 'medster', 'numdisv', 'vdstena', 'vdstenm',\n",
    "                'mtopd', 'status', 'opcab', 'opvalve', 'ethnicity', 'raceblack',\n",
    "                'cvdtia', 'medgp', 'pocpciin', 'pocpci', 'incidenc',\n",
    "                'racecaucasian', 'raceblack', 'raceasian', 'racenativeam',\n",
    "                'raceothernativepacific', 'cvdpcarsurg', 'medadp5days',\n",
    "        ]\n",
    "        # For duplicate rows, set the cohort type column to 1\n",
    "        df.loc[df.duplicated(subset=cols, keep=False), cohort] = 1\n",
    "        \n",
    "        # Drop duplicate rows\n",
    "        df.drop_duplicates(subset=cols, keep='first', inplace=True)\n",
    "        \n",
    "    # Fill remaining NaNs for that cohort (procedure type)\n",
    "    df[cohort].fillna(value=0, inplace=True)\n",
    "\n",
    "# Drop rows with NaN MRNs        \n",
    "df.dropna(subset=['medrecn'], inplace=True)\n",
    "\n",
    "# Sort and reset index\n",
    "df = df.reindex(sorted(df.columns), axis=1)\n",
    "df = df.reset_index(drop=True)\n",
    "\n",
    "# Fix improperly encoded binary variables\n",
    "df.loc[df['opvalve'] == 2, 'opvalve'] = 0\n",
    "df.loc[df['opcab'] == 2, 'opcab'] = 0"
   ]
  },
  {
   "cell_type": "code",
   "execution_count": null,
   "metadata": {},
   "outputs": [],
   "source": [
    "fpath = os.path.expanduser(\"~/dropbox/sts-data/sts-mgh.csv\")\n",
    "df.to_csv(fpath, index=False)\n",
    "print(f\"Saved {fpath}\")"
   ]
  }
 ],
 "metadata": {
  "kernelspec": {
   "display_name": "Python 3",
   "language": "python",
   "name": "python3"
  },
  "language_info": {
   "codemirror_mode": {
    "name": "ipython",
    "version": 3
   },
   "file_extension": ".py",
   "mimetype": "text/x-python",
   "name": "python",
   "nbconvert_exporter": "python",
   "pygments_lexer": "ipython3",
   "version": "3.6.9"
  }
 },
 "nbformat": 4,
 "nbformat_minor": 4
}
